{
 "cells": [
  {
   "cell_type": "markdown",
   "id": "f3c6e567-de2f-426b-bbee-20c7bda1662b",
   "metadata": {},
   "source": [
    "# Results\n",
    "\n",
    "How to use:\n",
    "\n",
    "* update model_path and model_names (at the END of the file)\n",
    "* run all cells\n"
   ]
  },
  {
   "cell_type": "code",
   "execution_count": 4,
   "id": "5bb45817-2e56-405e-b37f-7296ebbbe64e",
   "metadata": {},
   "outputs": [],
   "source": [
    "import os\n",
    "\n",
    "import numpy as np\n",
    "import scipy\n",
    "import scipy.stats\n",
    "import torch\n",
    "from torch.utils.data import DataLoader\n",
    "from torchinfo import summary \n",
    "from codes.pt_data import ProteinLigand_3DDataset\n",
    "from codes.raw_data import RawDataset"
   ]
  },
  {
   "cell_type": "markdown",
   "id": "c840502e-4483-4e61-9dda-a08615b72163",
   "metadata": {},
   "source": [
    "## Setup"
   ]
  },
  {
   "cell_type": "code",
   "execution_count": 5,
   "id": "b1555102-4d1e-4e86-b414-027e3ea4ad29",
   "metadata": {},
   "outputs": [],
   "source": [
    "# data\n",
    "input_dir= f\"{os.path.join(os.getenv('luh_ALL_CCFRWORK'))}/deep_learning/pafnucy/data/CoG_12\" \n",
    "grid_spacing= 1.0 # distance between grid points in angstrom\n",
    "max_dist= 12 # max distance from complex center\n",
    "batch_size= 50\n",
    "\n",
    "# normalisation (used during training)\n",
    "partialcharge= {\"m\": -0.1401471346616745, \"std\": 0.4216829240322113}"
   ]
  },
  {
   "cell_type": "markdown",
   "id": "10e2f4ec-d9be-4acf-a7d8-8c62db208f16",
   "metadata": {},
   "source": [
    "## Data"
   ]
  },
  {
   "cell_type": "code",
   "execution_count": 6,
   "id": "fdd22b7a-0ad7-48a6-a061-3ed9b7b2ccd7",
   "metadata": {},
   "outputs": [
    {
     "name": "stdout",
     "output_type": "stream",
     "text": [
      "training dataset with 13800 samples\n",
      "\tPartial charge normalization: m= -0.1401471346616745                     std= 0.4216829240322113\n",
      "\n",
      "validation dataset with 3479 samples\n",
      "\tPartial charge normalization: m= -0.1401471346616745                     std= 0.4216829240322113\n",
      "\n",
      "test dataset with 285 samples\n",
      "\tPartial charge normalization: m= -0.1401471346616745                     std= 0.4216829240322113\n",
      "\n"
     ]
    }
   ],
   "source": [
    "def get_data(name, input_dir, max_dist, partialcharge, grid_spacing, batch_size):\n",
    "    raw_data = RawDataset(input_dir, name, max_dist)\n",
    "    raw_data.load_data()\n",
    "    raw_data.set_normalization_params(partialcharge[\"m\"], partialcharge[\"std\"])\n",
    "    raw_data.charge_normalization()\n",
    "    print(raw_data)\n",
    "\n",
    "    dataset = ProteinLigand_3DDataset(raw_data, grid_spacing=grid_spacing, rotations=None)\n",
    "    no_of_samples = len(dataset)\n",
    "    batch_size = min(no_of_samples, batch_size)\n",
    "    dataloader = DataLoader(dataset, batch_size=batch_size, shuffle=False, num_workers=4, pin_memory=True,\n",
    "                                 persistent_workers=True)    \n",
    "    return dataloader, no_of_samples\n",
    "\n",
    "\n",
    "train_dl, train_samples= get_data('training', input_dir, max_dist, partialcharge, grid_spacing, batch_size)\n",
    "val_dl, val_samples= get_data('validation', input_dir, max_dist, partialcharge, grid_spacing, batch_size)\n",
    "test_dl, test_samples= get_data('test', input_dir, max_dist, partialcharge, grid_spacing, batch_size)\n"
   ]
  },
  {
   "cell_type": "markdown",
   "id": "0eb4120a-13cb-4fa6-a840-cb4748e2df8e",
   "metadata": {},
   "source": [
    "## Run model on dataset"
   ]
  },
  {
   "cell_type": "code",
   "execution_count": 7,
   "id": "9e04229a-f643-4fb2-9086-0058cc352c91",
   "metadata": {},
   "outputs": [],
   "source": [
    "def run(model, dataloader, no_of_samples, model_summary=False, sample_summary=False):\n",
    "    device = torch.device(\"cuda:0\" if torch.cuda.is_available() else \"cpu\")\n",
    "    model.eval() # model already on gpu\n",
    "    if model_summary:\n",
    "        summary(model, input_size=(10, 19, 25, 25, 25))\n",
    "        \n",
    "    affinities = np.empty(0, dtype=np.float32)\n",
    "    predictions = []\n",
    "\n",
    "    for (inputs, labels) in dataloader:\n",
    "        inputs = inputs.to(device)\n",
    "\n",
    "        with torch.set_grad_enabled(False):\n",
    "            preds = model(inputs)\n",
    "\n",
    "        affinities = np.append(affinities, labels.numpy())\n",
    "        predictions = np.append(predictions, preds.cpu().detach().numpy())\n",
    "\n",
    "    if sample_summary:\n",
    "        print(f\"Computed preds on {len(predictions)}/{len(affinities)} samples! (expected: {no_of_samples})\")\n",
    "    return affinities, predictions"
   ]
  },
  {
   "cell_type": "markdown",
   "id": "330e7ef0-7928-44a5-b88c-b3c7f8f59ae7",
   "metadata": {},
   "source": [
    "## Analysis\n"
   ]
  },
  {
   "cell_type": "code",
   "execution_count": 14,
   "id": "b2b62204-f623-4f96-84a2-bace570ce9db",
   "metadata": {},
   "outputs": [],
   "source": [
    "def analyse(affinities, predictions, name):\n",
    "    rmse = ((predictions - affinities) ** 2).mean() ** 0.5\n",
    "    mae = (np.abs(predictions - affinities)).mean()\n",
    "    corr = scipy.stats.pearsonr(predictions, affinities)\n",
    "    # lr = LinearRegression()\n",
    "    # lr.fit(predictions, affinities)\n",
    "    # y_ = lr.predict(predictions)\n",
    "    # sd = (((affinities - y_) ** 2).sum() / (len(affinities) - 1)) ** 0.5\n",
    "    \n",
    "    print(f\"Analysis of {name} data: rmse= {rmse:.5f}\\tmae= {mae:.5f}\\tcorr= {corr}\")"
   ]
  },
  {
   "cell_type": "markdown",
   "id": "509ffa0c-912f-4441-8b81-a947ca0c26a0",
   "metadata": {},
   "source": [
    "## Analysis of several models\n",
    "\n",
    "* \"rotations_2.2152_4.pth\" : only save model once per epoch and at the end of the 24 rotations, if loss is better\n",
    "* \"rotations_saveinbetween_2.1320_e7_r0.pth\" : check for better loss after each rotation, and save (here at rotation 0)\n"
   ]
  },
  {
   "cell_type": "code",
   "execution_count": 15,
   "id": "46c2af38-6c9d-46ff-8564-c3ac79ee2652",
   "metadata": {},
   "outputs": [],
   "source": [
    "#model_path = f\"{os.getenv('luh_ALL_CCFRSCRATCH')}/proli/models\"\n",
    "#model_names = [\"rotations_2.2152_4.pth\", \"rotations_saveinbetween_2.1320_e7_r0.pth\", \"nil_rot_inbetween_2.1599_e4_r7.pth\", \"nil_rot_inb_noscheduler_2.1259_e3_r7.pth\"]\n",
    "\n",
    "model_path = f\"{os.getenv('luh_ALL_CCFRSCRATCH')}/proli/nil_models\"\n",
    "model_names = [\"nil_nomaxpool_mse2.3608_mae1.2189_e14.pth\",\"nil_nomaxpool_aw_mse2.2175_mae1.1900_e62.pth\",\"nil_nomaxpool_adw_sched_mse2.2676_mae1.1981_e15.pth\"]\n",
    "\n",
    "def perform_analysis(m):\n",
    "    model_fullname = os.path.join(model_path, m)\n",
    "    model = torch.load(model_fullname)\n",
    "    \n",
    "    affinities, predictions = {}, {}\n",
    "    affinities[\"test\"], predictions[\"test\"] = run(model, test_dl, test_samples, model_summary=True, sample_summary=True)\n",
    "    affinities[\"val\"], predictions[\"val\"] = run(model, val_dl, val_samples)\n",
    "    affinities[\"train\"], predictions[\"train\"] = run(model, train_dl, train_samples)\n",
    "    print(f\"==== model {m} ====\")\n",
    "    for name in [\"train\", \"val\", \"test\"]:\n",
    "        analyse(affinities[name], predictions[name], name)"
   ]
  },
  {
   "cell_type": "code",
   "execution_count": 16,
   "id": "56e3a0e0-89d1-40a5-b4bc-d6ae9cdd87b8",
   "metadata": {},
   "outputs": [
    {
     "name": "stdout",
     "output_type": "stream",
     "text": [
      "Computed preds on 285/285 samples! (expected: 285)\n",
      "==== model nil_nomaxpool_mse2.3608_mae1.2189_e14.pth ====\n",
      "Analysis of train data: rmse= 1.48658\tmae= 1.15684\tcorr= (0.6066411381185601, 0.0)\n",
      "Analysis of val data: rmse= 1.53649\tmae= 1.21895\tcorr= (0.6187196600474285, 0.0)\n",
      "Analysis of test data: rmse= 1.59345\tmae= 1.29103\tcorr= (0.6830717857341011, 1.6556294187406492e-40)\n",
      "Computed preds on 285/285 samples! (expected: 285)\n",
      "==== model nil_nomaxpool_aw_mse2.2175_mae1.1900_e62.pth ====\n",
      "Analysis of train data: rmse= 1.41828\tmae= 1.10850\tcorr= (0.6411507198664433, 0.0)\n",
      "Analysis of val data: rmse= 1.48914\tmae= 1.19004\tcorr= (0.6425663415088806, 0.0)\n",
      "Analysis of test data: rmse= 1.56267\tmae= 1.24478\tcorr= (0.7329014569567869, 2.9500972151452334e-49)\n",
      "Computed preds on 285/285 samples! (expected: 285)\n",
      "==== model nil_nomaxpool_adw_sched_mse2.2676_mae1.1981_e15.pth ====\n",
      "Analysis of train data: rmse= 1.48238\tmae= 1.15879\tcorr= (0.6035270360672834, 0.0)\n",
      "Analysis of val data: rmse= 1.50586\tmae= 1.19807\tcorr= (0.6273968552291039, 0.0)\n",
      "Analysis of test data: rmse= 1.54846\tmae= 1.23939\tcorr= (0.7224054394670567, 2.9600848334345525e-47)\n"
     ]
    }
   ],
   "source": [
    "for m in model_names:\n",
    "    perform_analysis(m)"
   ]
  },
  {
   "cell_type": "code",
   "execution_count": null,
   "id": "0baac7c2-2b31-4363-993d-795fc25ac729",
   "metadata": {},
   "outputs": [],
   "source": []
  }
 ],
 "metadata": {
  "kernelspec": {
   "display_name": "Python 3 (ipykernel)",
   "language": "python",
   "name": "python3"
  },
  "language_info": {
   "codemirror_mode": {
    "name": "ipython",
    "version": 3
   },
   "file_extension": ".py",
   "mimetype": "text/x-python",
   "name": "python",
   "nbconvert_exporter": "python",
   "pygments_lexer": "ipython3",
   "version": "3.9.7"
  }
 },
 "nbformat": 4,
 "nbformat_minor": 5
}
