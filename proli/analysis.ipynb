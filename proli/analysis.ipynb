{
 "cells": [
  {
   "cell_type": "markdown",
   "id": "f3c6e567-de2f-426b-bbee-20c7bda1662b",
   "metadata": {},
   "source": [
    "# Results\n"
   ]
  },
  {
   "cell_type": "code",
   "execution_count": 20,
   "id": "5bb45817-2e56-405e-b37f-7296ebbbe64e",
   "metadata": {},
   "outputs": [],
   "source": [
    "import os\n",
    "\n",
    "import numpy as np\n",
    "import scipy\n",
    "import torch\n",
    "from torch.utils.data import DataLoader\n",
    "from torchinfo import summary\n",
    "from codes.pt_data import ProteinLigand_3DDataset\n",
    "from codes.raw_data import RawDataset"
   ]
  },
  {
   "cell_type": "markdown",
   "id": "c840502e-4483-4e61-9dda-a08615b72163",
   "metadata": {},
   "source": [
    "## Setup"
   ]
  },
  {
   "cell_type": "code",
   "execution_count": 21,
   "id": "b1555102-4d1e-4e86-b414-027e3ea4ad29",
   "metadata": {},
   "outputs": [],
   "source": [
    "# model\n",
    "model_path= f\"{os.getenv('luh_ALL_CCFRSCRATCH')}/proli/models\"\n",
    "model_name= \"rotations_2.7341_0.pth\"\n",
    "\n",
    "# data\n",
    "input_dir= f\"{os.path.join(os.getenv('luh_ALL_CCFRWORK'))}/deep_learning/pafnucy/data/CoG_12\" \n",
    "grid_spacing= 1.0 # distance between grid points in angstrom\n",
    "max_dist= 12 # max distance from complex center\n",
    "batch_size= 50\n",
    "\n",
    "# normalisation (used during training)\n",
    "partialcharge= {\"m\": -0.1401471346616745, \"std\": 0.4216829240322113}"
   ]
  },
  {
   "cell_type": "markdown",
   "id": "10e2f4ec-d9be-4acf-a7d8-8c62db208f16",
   "metadata": {},
   "source": [
    "## Data"
   ]
  },
  {
   "cell_type": "code",
   "execution_count": 22,
   "id": "fdd22b7a-0ad7-48a6-a061-3ed9b7b2ccd7",
   "metadata": {},
   "outputs": [
    {
     "name": "stdout",
     "output_type": "stream",
     "text": [
      "training dataset with 13800 samples\n",
      "\tPartial charge normalization: m= -0.1401471346616745                     std= 0.4216829240322113\n",
      "\n",
      "validation dataset with 3479 samples\n",
      "\tPartial charge normalization: m= -0.1401471346616745                     std= 0.4216829240322113\n",
      "\n",
      "test dataset with 285 samples\n",
      "\tPartial charge normalization: m= -0.1401471346616745                     std= 0.4216829240322113\n",
      "\n"
     ]
    }
   ],
   "source": [
    "def get_data(name, input_dir, max_dist, partialcharge, grid_spacing, batch_size):\n",
    "    raw_data = RawDataset(input_dir, name, max_dist)\n",
    "    raw_data.load_data()\n",
    "    raw_data.set_normalization_params(partialcharge[\"m\"], partialcharge[\"std\"])\n",
    "    raw_data.charge_normalization()\n",
    "    print(raw_data)\n",
    "\n",
    "    dataset = ProteinLigand_3DDataset(raw_data, grid_spacing=grid_spacing, rotations=None)\n",
    "    no_of_samples = len(dataset)\n",
    "    batch_size = min(no_of_samples, batch_size)\n",
    "    dataloader = DataLoader(dataset, batch_size=batch_size, shuffle=False, num_workers=4, pin_memory=True,\n",
    "                                 persistent_workers=True)    \n",
    "    return dataloader, no_of_samples\n",
    "\n",
    "\n",
    "train_dl, train_samples= get_data('training', input_dir, max_dist, partialcharge, grid_spacing, batch_size)\n",
    "val_dl, val_samples= get_data('validation', input_dir, max_dist, partialcharge, grid_spacing, batch_size)\n",
    "test_dl, test_samples= get_data('test', input_dir, max_dist, partialcharge, grid_spacing, batch_size)\n"
   ]
  },
  {
   "cell_type": "markdown",
   "id": "51d5ea17-b875-49af-81c0-f1a865890b2b",
   "metadata": {},
   "source": [
    "## Model\n",
    "\n",
    "> *remove \"summary()\" and \"import torchinfo\" if you don't want to install the package"
   ]
  },
  {
   "cell_type": "code",
   "execution_count": 23,
   "id": "55108c12-2da8-494b-a91a-2e0b11cbe143",
   "metadata": {},
   "outputs": [
    {
     "data": {
      "text/plain": [
       "==========================================================================================\n",
       "Layer (type:depth-idx)                   Output Shape              Param #\n",
       "==========================================================================================\n",
       "Pafnucy                                  --                        --\n",
       "├─Sequential: 1-1                        [10, 256, 4, 4, 4]        --\n",
       "│    └─Conv3d: 2-1                       [10, 64, 25, 25, 25]      152,064\n",
       "│    └─ReLU: 2-2                         [10, 64, 25, 25, 25]      --\n",
       "│    └─MaxPool3d: 2-3                    [10, 64, 13, 13, 13]      --\n",
       "│    └─Conv3d: 2-4                       [10, 128, 13, 13, 13]     1,024,128\n",
       "│    └─ReLU: 2-5                         [10, 128, 13, 13, 13]     --\n",
       "│    └─MaxPool3d: 2-6                    [10, 128, 7, 7, 7]        --\n",
       "│    └─Conv3d: 2-7                       [10, 256, 7, 7, 7]        4,096,256\n",
       "│    └─ReLU: 2-8                         [10, 256, 7, 7, 7]        --\n",
       "│    └─MaxPool3d: 2-9                    [10, 256, 4, 4, 4]        --\n",
       "├─Sequential: 1-2                        [10, 1]                   --\n",
       "│    └─Linear: 2-10                      [10, 1000]                16,385,000\n",
       "│    └─ReLU: 2-11                        [10, 1000]                --\n",
       "│    └─Dropout: 2-12                     [10, 1000]                --\n",
       "│    └─Linear: 2-13                      [10, 500]                 500,500\n",
       "│    └─ReLU: 2-14                        [10, 500]                 --\n",
       "│    └─Dropout: 2-15                     [10, 500]                 --\n",
       "│    └─Linear: 2-16                      [10, 200]                 100,200\n",
       "│    └─ReLU: 2-17                        [10, 200]                 --\n",
       "│    └─Dropout: 2-18                     [10, 200]                 --\n",
       "│    └─Linear: 2-19                      [10, 1]                   201\n",
       "==========================================================================================\n",
       "Total params: 22,258,349\n",
       "Trainable params: 22,258,349\n",
       "Non-trainable params: 0\n",
       "Total mult-adds (G): 60.48\n",
       "==========================================================================================\n",
       "Input size (MB): 11.88\n",
       "Forward/backward pass size (MB): 109.66\n",
       "Params size (MB): 89.03\n",
       "Estimated Total Size (MB): 210.57\n",
       "=========================================================================================="
      ]
     },
     "execution_count": 23,
     "metadata": {},
     "output_type": "execute_result"
    }
   ],
   "source": [
    "model_fullname = os.path.join(model_path, model_name)\n",
    "model = torch.load(model_fullname)\n",
    "\n",
    "summary(model, input_size=(10, 19, 25, 25, 25))"
   ]
  },
  {
   "cell_type": "markdown",
   "id": "0eb4120a-13cb-4fa6-a840-cb4748e2df8e",
   "metadata": {},
   "source": [
    "## Run model on dataset"
   ]
  },
  {
   "cell_type": "code",
   "execution_count": 24,
   "id": "9e04229a-f643-4fb2-9086-0058cc352c91",
   "metadata": {},
   "outputs": [],
   "source": [
    "def run(model, dataloader, no_of_samples):\n",
    "    device = torch.device(\"cuda:0\" if torch.cuda.is_available() else \"cpu\")\n",
    "    model.eval() # model already on gpu\n",
    "    affinities = np.empty(0, dtype=np.float32)\n",
    "    predictions = []\n",
    "\n",
    "    for (inputs, labels) in dataloader:\n",
    "        inputs = inputs.to(device)\n",
    "\n",
    "        with torch.set_grad_enabled(False):\n",
    "            preds = model(inputs)\n",
    "\n",
    "        affinities = np.append(affinities, labels.numpy())\n",
    "        predictions = np.append(predictions, preds.cpu().detach().numpy())\n",
    "\n",
    "    print(f\"Computed preds on {len(predictions)}/{len(affinities)} samples! (expected: {no_of_samples})\")\n",
    "    return affinities, predictions"
   ]
  },
  {
   "cell_type": "code",
   "execution_count": 26,
   "id": "e1e455aa-6f34-42fe-bb3b-eeeb614d8fd9",
   "metadata": {},
   "outputs": [
    {
     "name": "stdout",
     "output_type": "stream",
     "text": [
      "Computed preds on 285/285 samples! (expected: 285)\n",
      "Computed preds on 3479/3479 samples! (expected: 3479)\n",
      "Computed preds on 13800/13800 samples! (expected: 13800)\n"
     ]
    }
   ],
   "source": [
    "affinities, predictions = {}, {}\n",
    "\n",
    "affinities[\"test\"], predictions[\"test\"] = run(model, test_dl, test_samples)\n",
    "affinities[\"val\"], predictions[\"val\"] = run(model, val_dl, val_samples)\n",
    "affinities[\"train\"], predictions[\"train\"] = run(model, train_dl, train_samples)"
   ]
  },
  {
   "cell_type": "markdown",
   "id": "330e7ef0-7928-44a5-b88c-b3c7f8f59ae7",
   "metadata": {},
   "source": [
    "## Analysis\n"
   ]
  },
  {
   "cell_type": "code",
   "execution_count": 34,
   "id": "b2b62204-f623-4f96-84a2-bace570ce9db",
   "metadata": {},
   "outputs": [],
   "source": [
    "def analyse(affinities, predictions, name):\n",
    "    rmse = ((predictions - affinities) ** 2).mean() ** 0.5\n",
    "    mae = (np.abs(predictions - affinities)).mean()\n",
    "    #corr = scipy.stats.pearsonr(predictions, affinities)\n",
    "    # lr = LinearRegression()\n",
    "    # lr.fit(predictions, affinities)\n",
    "    # y_ = lr.predict(predictions)\n",
    "    # sd = (((affinities - y_) ** 2).sum() / (len(affinities) - 1)) ** 0.5\n",
    "    \n",
    "    print(f\"\"\"\n",
    "    Analysis of {name} data:\n",
    "        rmse= {rmse}\n",
    "        mae= {mae}\n",
    "        corr= {corr}\n",
    "    \"\"\")"
   ]
  },
  {
   "cell_type": "code",
   "execution_count": 35,
   "id": "3a37abd3-2d01-43be-b2cb-9b191cc17894",
   "metadata": {},
   "outputs": [
    {
     "name": "stdout",
     "output_type": "stream",
     "text": [
      "\n",
      "    Analysis of train data:\n",
      "        rmse= 1.5931353063688671\n",
      "        mae= 1.2697432543855647\n",
      "        corr= corr\n",
      "    \n",
      "\n",
      "    Analysis of val data:\n",
      "        rmse= 1.6535175507352018\n",
      "        mae= 1.3303013406426236\n",
      "        corr= corr\n",
      "    \n",
      "\n",
      "    Analysis of test data:\n",
      "        rmse= 1.789591643521702\n",
      "        mae= 1.4467452777059455\n",
      "        corr= corr\n",
      "    \n"
     ]
    }
   ],
   "source": [
    "for name in [\"train\", \"val\", \"test\"]:\n",
    "    analyse(affinities[name], predictions[name], name)"
   ]
  },
  {
   "cell_type": "code",
   "execution_count": 31,
   "id": "f37d00a8-6811-4abe-89fb-6bd7fd66920a",
   "metadata": {},
   "outputs": [
    {
     "name": "stdout",
     "output_type": "stream",
     "text": [
      "1.7.1\n"
     ]
    }
   ],
   "source": [
    "print(scipy.__version__)"
   ]
  },
  {
   "cell_type": "code",
   "execution_count": null,
   "id": "1b824e1d-6735-4c4a-b74a-2167d987672f",
   "metadata": {},
   "outputs": [],
   "source": []
  }
 ],
 "metadata": {
  "kernelspec": {
   "display_name": "Python 3 (ipykernel)",
   "language": "python",
   "name": "python3"
  },
  "language_info": {
   "codemirror_mode": {
    "name": "ipython",
    "version": 3
   },
   "file_extension": ".py",
   "mimetype": "text/x-python",
   "name": "python",
   "nbconvert_exporter": "python",
   "pygments_lexer": "ipython3",
   "version": "3.9.7"
  }
 },
 "nbformat": 4,
 "nbformat_minor": 5
}
